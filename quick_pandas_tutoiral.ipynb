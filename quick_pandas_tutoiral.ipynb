{
  "nbformat": 4,
  "nbformat_minor": 0,
  "metadata": {
    "colab": {
      "name": "quick-pandas-tutoiral.ipynb",
      "provenance": [],
      "collapsed_sections": [
        "rgvNsguEAU5z",
        "a45CRpfnBf0N",
        "dF9ylGsUDdFh",
        "rNU9DvGtF4YQ",
        "1IPySXobIVok",
        "Q06Hc3eoJ_Jr",
        "xc4bifRfMdpD",
        "yl7Gs8d2NzE9",
        "LpogpC22Oujh",
        "VgzexoL5O8Rq",
        "rER2bBTxQqSF",
        "S9C4rJJiUCnX",
        "LCTt_3kHVvIR",
        "XDha6_1lWXK7",
        "1XuDAQWLW9Ja",
        "EwdpNnFBb7cW",
        "YxNB3fcBcL8-",
        "7EsFKqVXePH6",
        "Ul92urXrk_Ul",
        "OjEFT0wrlIQ-",
        "w1Np_M8uoNr9",
        "QqvmUBn0n-Js",
        "Pdga4WTlrxlh",
        "D7AU1zo5sf9q"
      ]
    },
    "kernelspec": {
      "name": "python3",
      "display_name": "Python 3"
    }
  },
  "cells": [
    {
      "cell_type": "markdown",
      "metadata": {
        "id": "sfU8OJ7viyaQ"
      },
      "source": [
        "# **A Quick Pandas Tutorial**\n",
        "> ## *Author* : [Rathachai CHAWUTHAI](https://rathachai.creatier.pro/) , Ph.D\n",
        "> ### *Affiliation* : Computer Engineering, King Mongkut's Institute of Technology Ladkrabang (KMITL)\n",
        "> #### *Updated Date* : 2022-07-30\n",
        "---"
      ]
    },
    {
      "cell_type": "markdown",
      "metadata": {
        "id": "rmwpgdQwkENy"
      },
      "source": [
        "> <a rel=\"license\" href=\"http://creativecommons.org/licenses/by-nc-sa/4.0/\"><img alt=\"Creative Commons License\" style=\"border-width:0\" src=\"https://i.creativecommons.org/l/by-nc-sa/4.0/88x31.png\" /></a><br />This work is licensed under a <a rel=\"license\" href=\"http://creativecommons.org/licenses/by-nc-sa/4.0/\">Creative Commons Attribution-NonCommercial-ShareAlike 4.0 International License</a>.\n",
        "\n",
        "\n",
        "\n",
        "---"
      ]
    },
    {
      "cell_type": "markdown",
      "metadata": {
        "id": "-RYNm8yJwFkZ"
      },
      "source": [
        "## Prerequisite Knowledge\n",
        "> Python, List, Dictionary, Tuple, Function, Lambda, Numpy, and CSV\n"
      ]
    },
    {
      "cell_type": "markdown",
      "source": [
        "## Agenda\n",
        "\n",
        "**Review**\n",
        "*   About a Dataset\n",
        "*   Basic Numpy\n",
        "\n",
        "**Pandas**\n",
        "*   Series & Dataframe\n",
        "*   Read CSV into a Pandas Dataframe\n",
        "*   Column Selection\n",
        "*   Row Selection\n",
        "*   Row and Column Selection (1)\n",
        "*   Cell Modification\n",
        "*   Set Index\n",
        "*   Row and Column Selection (2)\n",
        "*   Reset Index\n",
        "*   Range Selection\n",
        "*   Conditinal Selection\n",
        "*   Column Operation\n",
        "*   New Column\n",
        "*   Drop Row\n",
        "*   Drop Column\n",
        "*   Sorting\n",
        "*   Grouping\n",
        "*   Iteration\n",
        "*   Apply Function\n",
        "*   Save Dataframe into a CSV file\n"
      ],
      "metadata": {
        "id": "Vivu5XcJPylb"
      }
    },
    {
      "cell_type": "markdown",
      "metadata": {
        "id": "3P9M9OaBkVpT"
      },
      "source": [
        "## About a Dataset"
      ]
    },
    {
      "cell_type": "markdown",
      "metadata": {
        "id": "uyzk0mDnkjwp"
      },
      "source": [
        "Click [https://github.com/Rathachai/DA-LAB/blob/gh-pages/datasets/simple-employee-db.csv](https://github.com/Rathachai/DA-LAB/blob/gh-pages/datasets/simple-employee-db.csv)"
      ]
    },
    {
      "cell_type": "markdown",
      "metadata": {
        "id": "vxHIiBjlAWb0"
      },
      "source": [
        "## Import Libraries"
      ]
    },
    {
      "cell_type": "code",
      "metadata": {
        "id": "B0sUqttDcYq5"
      },
      "source": [
        "import numpy as np\n",
        "import pandas as pd"
      ],
      "execution_count": null,
      "outputs": []
    },
    {
      "cell_type": "markdown",
      "metadata": {
        "id": "pIfoIs3YRXxo"
      },
      "source": [
        "## Basic Numpy"
      ]
    },
    {
      "cell_type": "code",
      "metadata": {
        "id": "Np0IivUiRbWO"
      },
      "source": [
        "[1,2,3] + [10,10,10]"
      ],
      "execution_count": null,
      "outputs": []
    },
    {
      "cell_type": "code",
      "metadata": {
        "id": "bRaEhN5uRnwu"
      },
      "source": [
        "[1,2,3] * 3"
      ],
      "execution_count": null,
      "outputs": []
    },
    {
      "cell_type": "code",
      "metadata": {
        "id": "hMEfZXRbRrTS"
      },
      "source": [
        "np.array([1,2,3]) + np.array([10,10,10])"
      ],
      "execution_count": null,
      "outputs": []
    },
    {
      "cell_type": "code",
      "source": [
        "np.array([1,2,3]) * 3"
      ],
      "metadata": {
        "id": "qOt2iCJvk5aK"
      },
      "execution_count": null,
      "outputs": []
    },
    {
      "cell_type": "code",
      "metadata": {
        "id": "Ek-GhXtcR4s4"
      },
      "source": [
        "np.arange(5)"
      ],
      "execution_count": null,
      "outputs": []
    },
    {
      "cell_type": "code",
      "metadata": {
        "id": "rpTuNN6CR8RU"
      },
      "source": [
        "np.arange(5,10)"
      ],
      "execution_count": null,
      "outputs": []
    },
    {
      "cell_type": "code",
      "metadata": {
        "id": "0fAkWxLlSAJu"
      },
      "source": [
        "np.arange(5,10,2)"
      ],
      "execution_count": null,
      "outputs": []
    },
    {
      "cell_type": "code",
      "metadata": {
        "id": "sr3xltz0SFX3"
      },
      "source": [
        "np.random.rand(5)"
      ],
      "execution_count": null,
      "outputs": []
    },
    {
      "cell_type": "code",
      "metadata": {
        "id": "pcPPXHmfSKFp"
      },
      "source": [
        "np.random.randint(10,20,5)"
      ],
      "execution_count": null,
      "outputs": []
    },
    {
      "cell_type": "code",
      "metadata": {
        "id": "ok6dD7OgSTpU"
      },
      "source": [
        "np.zeros(5)"
      ],
      "execution_count": null,
      "outputs": []
    },
    {
      "cell_type": "code",
      "metadata": {
        "id": "D4A7hRyFSfD0"
      },
      "source": [
        "np.ones(5)"
      ],
      "execution_count": null,
      "outputs": []
    },
    {
      "cell_type": "code",
      "metadata": {
        "id": "t7EdoaFNShel"
      },
      "source": [
        "x = np.arange(0,5)"
      ],
      "execution_count": null,
      "outputs": []
    },
    {
      "cell_type": "code",
      "metadata": {
        "id": "XQRIS8XKSkuU"
      },
      "source": [
        "x"
      ],
      "execution_count": null,
      "outputs": []
    },
    {
      "cell_type": "code",
      "metadata": {
        "id": "IxHE0QEvSmGu"
      },
      "source": [
        "x.sum()"
      ],
      "execution_count": null,
      "outputs": []
    },
    {
      "cell_type": "code",
      "source": [
        "np.sum(x)"
      ],
      "metadata": {
        "id": "AyoxNl2MmV5A"
      },
      "execution_count": null,
      "outputs": []
    },
    {
      "cell_type": "code",
      "metadata": {
        "id": "b-smppjNSn7P"
      },
      "source": [
        "x.mean()"
      ],
      "execution_count": null,
      "outputs": []
    },
    {
      "cell_type": "code",
      "metadata": {
        "id": "lrgibUPlSpFn"
      },
      "source": [
        "x.min()"
      ],
      "execution_count": null,
      "outputs": []
    },
    {
      "cell_type": "code",
      "metadata": {
        "id": "2s-F_H4-SzvX"
      },
      "source": [
        "x.max()"
      ],
      "execution_count": null,
      "outputs": []
    },
    {
      "cell_type": "code",
      "metadata": {
        "id": "KbH07Wo7S1IY"
      },
      "source": [
        "x.std()"
      ],
      "execution_count": null,
      "outputs": []
    },
    {
      "cell_type": "code",
      "metadata": {
        "id": "qjaw-bkrY-c3"
      },
      "source": [
        "x"
      ],
      "execution_count": null,
      "outputs": []
    },
    {
      "cell_type": "code",
      "metadata": {
        "id": "8z_pD8epvojY"
      },
      "source": [
        "x[2]"
      ],
      "execution_count": null,
      "outputs": []
    },
    {
      "cell_type": "code",
      "metadata": {
        "id": "tDN_xAQ3S2lj"
      },
      "source": [
        "x[0:3]"
      ],
      "execution_count": null,
      "outputs": []
    },
    {
      "cell_type": "code",
      "metadata": {
        "id": "wXDaCrknTKMm"
      },
      "source": [
        "x[:3]"
      ],
      "execution_count": null,
      "outputs": []
    },
    {
      "cell_type": "code",
      "metadata": {
        "id": "KAy4SmHDTP0q"
      },
      "source": [
        "x[3:]"
      ],
      "execution_count": null,
      "outputs": []
    },
    {
      "cell_type": "code",
      "metadata": {
        "id": "H0m1KGCETR75"
      },
      "source": [
        "x[-1]"
      ],
      "execution_count": null,
      "outputs": []
    },
    {
      "cell_type": "code",
      "metadata": {
        "id": "tTKxmtu5TT0Q"
      },
      "source": [
        "x[-2]"
      ],
      "execution_count": null,
      "outputs": []
    },
    {
      "cell_type": "markdown",
      "source": [
        "## Pandas Series & Pandas Dataframe"
      ],
      "metadata": {
        "id": "ElmwquFhVbxC"
      }
    },
    {
      "cell_type": "code",
      "source": [
        "s1 = pd.Series([0, 10, 20])"
      ],
      "metadata": {
        "id": "gO5vCm5KVekV"
      },
      "execution_count": null,
      "outputs": []
    },
    {
      "cell_type": "code",
      "source": [
        "s1"
      ],
      "metadata": {
        "id": "1zSuuxA2Vl9p"
      },
      "execution_count": null,
      "outputs": []
    },
    {
      "cell_type": "code",
      "source": [
        "s1.mean()"
      ],
      "metadata": {
        "id": "NdVat3reV1ra"
      },
      "execution_count": null,
      "outputs": []
    },
    {
      "cell_type": "code",
      "source": [
        "s1.max()"
      ],
      "metadata": {
        "id": "PPWa1af2V3dF"
      },
      "execution_count": null,
      "outputs": []
    },
    {
      "cell_type": "code",
      "source": [
        "s2 = pd.Series([\"A\", \"B\", \"C\"])"
      ],
      "metadata": {
        "id": "HFz1ls2CV54z"
      },
      "execution_count": null,
      "outputs": []
    },
    {
      "cell_type": "code",
      "source": [
        "s2"
      ],
      "metadata": {
        "id": "hPseJ1FxV_eh"
      },
      "execution_count": null,
      "outputs": []
    },
    {
      "cell_type": "code",
      "source": [
        "df = pd.DataFrame({\"name\":s2, \"working_years\":s1})"
      ],
      "metadata": {
        "id": "VYaKw__TWEDJ"
      },
      "execution_count": null,
      "outputs": []
    },
    {
      "cell_type": "code",
      "source": [
        "df"
      ],
      "metadata": {
        "id": "D2Pey52xWNAJ"
      },
      "execution_count": null,
      "outputs": []
    },
    {
      "cell_type": "code",
      "source": [
        "type(df)"
      ],
      "metadata": {
        "id": "aF-oFL7PWy9g"
      },
      "execution_count": null,
      "outputs": []
    },
    {
      "cell_type": "code",
      "source": [
        "type(s1)"
      ],
      "metadata": {
        "id": "Vhsf8VtRW1Dl"
      },
      "execution_count": null,
      "outputs": []
    },
    {
      "cell_type": "code",
      "source": [
        "df[\"name\"]"
      ],
      "metadata": {
        "id": "0om2ux8JW9oW"
      },
      "execution_count": null,
      "outputs": []
    },
    {
      "cell_type": "code",
      "source": [
        "df[[\"name\"]]"
      ],
      "metadata": {
        "id": "8aVHXC6XXB3L"
      },
      "execution_count": null,
      "outputs": []
    },
    {
      "cell_type": "code",
      "source": [
        "type(df[\"name\"])"
      ],
      "metadata": {
        "id": "DoWS9bmHXE7Q"
      },
      "execution_count": null,
      "outputs": []
    },
    {
      "cell_type": "code",
      "source": [
        "type(df[[\"name\"]])"
      ],
      "metadata": {
        "id": "a5BhIhoYXHEN"
      },
      "execution_count": null,
      "outputs": []
    },
    {
      "cell_type": "markdown",
      "metadata": {
        "id": "QXpVCNz8Afdc"
      },
      "source": [
        "## Read CSV into a Pandas Dataframe"
      ]
    },
    {
      "cell_type": "code",
      "metadata": {
        "id": "IAUcJ9bY-nav"
      },
      "source": [
        "CSV_PATH = \"https://rathachai.github.io/DA-LAB/datasets/simple-employee-db.csv\""
      ],
      "execution_count": null,
      "outputs": []
    },
    {
      "cell_type": "code",
      "metadata": {
        "id": "Q5vVZ70HciVf"
      },
      "source": [
        "df = pd.read_csv(CSV_PATH)"
      ],
      "execution_count": null,
      "outputs": []
    },
    {
      "cell_type": "code",
      "metadata": {
        "id": "LMQ8IgvDcm-G"
      },
      "source": [
        "df"
      ],
      "execution_count": null,
      "outputs": []
    },
    {
      "cell_type": "code",
      "metadata": {
        "id": "jZji3VIsBWQ1"
      },
      "source": [
        "df.head()"
      ],
      "execution_count": null,
      "outputs": []
    },
    {
      "cell_type": "code",
      "metadata": {
        "id": "HNqW536rBZsK"
      },
      "source": [
        "df.tail()"
      ],
      "execution_count": null,
      "outputs": []
    },
    {
      "cell_type": "markdown",
      "metadata": {
        "id": "rgvNsguEAU5z"
      },
      "source": [
        "## Column Selection"
      ]
    },
    {
      "cell_type": "code",
      "metadata": {
        "id": "9XykVausysp3"
      },
      "source": [
        "df[\"name\"]"
      ],
      "execution_count": null,
      "outputs": []
    },
    {
      "cell_type": "code",
      "metadata": {
        "id": "EeSaXbmoMs2K"
      },
      "source": [
        "df[[\"name\"]]"
      ],
      "execution_count": null,
      "outputs": []
    },
    {
      "cell_type": "code",
      "metadata": {
        "id": "MnQKJmOOA2rV"
      },
      "source": [
        "df[[\"name\", \"gender\", \"age\"]]"
      ],
      "execution_count": null,
      "outputs": []
    },
    {
      "cell_type": "markdown",
      "metadata": {
        "id": "a45CRpfnBf0N"
      },
      "source": [
        "## Row Selection"
      ]
    },
    {
      "cell_type": "code",
      "metadata": {
        "id": "CgHcSS_tBi9T"
      },
      "source": [
        "df.loc[1]"
      ],
      "execution_count": null,
      "outputs": []
    },
    {
      "cell_type": "code",
      "metadata": {
        "id": "Ioc7Tnk8cPfZ"
      },
      "source": [
        "df.loc[[1]]"
      ],
      "execution_count": null,
      "outputs": []
    },
    {
      "cell_type": "code",
      "metadata": {
        "id": "DWn5QKxXC0Um"
      },
      "source": [
        "df.loc[[1,2,3]]"
      ],
      "execution_count": null,
      "outputs": []
    },
    {
      "cell_type": "markdown",
      "metadata": {
        "id": "dF9ylGsUDdFh"
      },
      "source": [
        "## Row and Column Selection (1)"
      ]
    },
    {
      "cell_type": "code",
      "metadata": {
        "id": "RoDvAZmYC4Tw"
      },
      "source": [
        "df.loc[1,[\"name\",\"age\"]]"
      ],
      "execution_count": null,
      "outputs": []
    },
    {
      "cell_type": "code",
      "metadata": {
        "id": "Wt7Xvph8cozC"
      },
      "source": [
        "df.loc[[1], [\"name\",\"age\"]]"
      ],
      "execution_count": null,
      "outputs": []
    },
    {
      "cell_type": "code",
      "metadata": {
        "id": "j3DjX-6cC8-y"
      },
      "source": [
        "df.loc[[1,2,3], [\"name\",\"age\"]]"
      ],
      "execution_count": null,
      "outputs": []
    },
    {
      "cell_type": "code",
      "metadata": {
        "id": "T4ulwzH0c5-B"
      },
      "source": [
        "df[[\"name\",\"age\"]].loc[[1,2,3]]"
      ],
      "execution_count": null,
      "outputs": []
    },
    {
      "cell_type": "code",
      "metadata": {
        "id": "rSwXvjrDdGRn"
      },
      "source": [
        "df.loc[[1,2,3]][[\"name\",\"age\"]]"
      ],
      "execution_count": null,
      "outputs": []
    },
    {
      "cell_type": "markdown",
      "metadata": {
        "id": "rNU9DvGtF4YQ"
      },
      "source": [
        "## Value Modification"
      ]
    },
    {
      "cell_type": "code",
      "metadata": {
        "id": "N1N-SNZWF390"
      },
      "source": [
        "df[[\"name\",\"working_years\"]]"
      ],
      "execution_count": null,
      "outputs": []
    },
    {
      "cell_type": "code",
      "metadata": {
        "id": "PDoCOoDXGO2n"
      },
      "source": [
        "df.loc[0,\"working_years\"] = 77"
      ],
      "execution_count": null,
      "outputs": []
    },
    {
      "cell_type": "code",
      "metadata": {
        "id": "zfdiPPyIGWg9"
      },
      "source": [
        "df[[\"name\",\"working_years\"]]"
      ],
      "execution_count": null,
      "outputs": []
    },
    {
      "cell_type": "code",
      "metadata": {
        "id": "lp67m8veHYhg"
      },
      "source": [
        "df.loc[[1,2],\"working_years\"] = 9999"
      ],
      "execution_count": null,
      "outputs": []
    },
    {
      "cell_type": "code",
      "metadata": {
        "id": "HJH6Xtx8HhqM"
      },
      "source": [
        "df[[\"name\",\"working_years\"]]"
      ],
      "execution_count": null,
      "outputs": []
    },
    {
      "cell_type": "code",
      "metadata": {
        "id": "AjC96DKTHpoD"
      },
      "source": [
        "df.loc[[1,2],[\"name\",\"working_years\"]] = \"MODIFIED\""
      ],
      "execution_count": null,
      "outputs": []
    },
    {
      "cell_type": "code",
      "metadata": {
        "id": "E7xPq2XsHvYb"
      },
      "source": [
        "df[[\"name\",\"working_years\"]]"
      ],
      "execution_count": null,
      "outputs": []
    },
    {
      "cell_type": "code",
      "metadata": {
        "id": "e6CS00uGe6BD"
      },
      "source": [
        "df"
      ],
      "execution_count": null,
      "outputs": []
    },
    {
      "cell_type": "markdown",
      "metadata": {
        "id": "1IPySXobIVok"
      },
      "source": [
        "## Reload the Dataframe"
      ]
    },
    {
      "cell_type": "code",
      "metadata": {
        "id": "7JnVshZQIbTI"
      },
      "source": [
        "df = pd.read_csv(CSV_PATH)"
      ],
      "execution_count": null,
      "outputs": []
    },
    {
      "cell_type": "code",
      "metadata": {
        "id": "qglu8Qd1IjVs"
      },
      "source": [
        "df"
      ],
      "execution_count": null,
      "outputs": []
    },
    {
      "cell_type": "markdown",
      "metadata": {
        "id": "Q06Hc3eoJ_Jr"
      },
      "source": [
        "## Set Index"
      ]
    },
    {
      "cell_type": "code",
      "metadata": {
        "id": "LnLzhu6vKLna"
      },
      "source": [
        "df.set_index(\"eid\")"
      ],
      "execution_count": null,
      "outputs": []
    },
    {
      "cell_type": "code",
      "metadata": {
        "id": "uNqLxBZTKRMK"
      },
      "source": [
        "df"
      ],
      "execution_count": null,
      "outputs": []
    },
    {
      "cell_type": "code",
      "metadata": {
        "id": "aKfhGagiKTN_"
      },
      "source": [
        "df.set_index(\"eid\", inplace=True)"
      ],
      "execution_count": null,
      "outputs": []
    },
    {
      "cell_type": "code",
      "metadata": {
        "id": "EREuu_NvKXeL"
      },
      "source": [
        "df"
      ],
      "execution_count": null,
      "outputs": []
    },
    {
      "cell_type": "markdown",
      "metadata": {
        "id": "xc4bifRfMdpD"
      },
      "source": [
        "## Row and Column Selection (2)"
      ]
    },
    {
      "cell_type": "code",
      "metadata": {
        "id": "8mhbztPFLI9p"
      },
      "source": [
        "df.loc[[\"E011\",\"E012\"], [\"name\", \"salary\"]]"
      ],
      "execution_count": null,
      "outputs": []
    },
    {
      "cell_type": "code",
      "metadata": {
        "id": "TQMD0JwRLiOl"
      },
      "source": [
        "df.iloc[0]"
      ],
      "execution_count": null,
      "outputs": []
    },
    {
      "cell_type": "code",
      "metadata": {
        "id": "KrwQCA88go9D"
      },
      "source": [
        "df.iloc[[0]]"
      ],
      "execution_count": null,
      "outputs": []
    },
    {
      "cell_type": "code",
      "metadata": {
        "id": "IJlP_BO_Lo0v"
      },
      "source": [
        "df.iloc[[0,1]]"
      ],
      "execution_count": null,
      "outputs": []
    },
    {
      "cell_type": "code",
      "metadata": {
        "id": "OHir_luUMABT"
      },
      "source": [
        "df.iloc[[0,1]][[\"name\",\"gender\"]]"
      ],
      "execution_count": null,
      "outputs": []
    },
    {
      "cell_type": "markdown",
      "metadata": {
        "id": "yl7Gs8d2NzE9"
      },
      "source": [
        "## Reset Index"
      ]
    },
    {
      "cell_type": "code",
      "metadata": {
        "id": "6gQ6TxoZN2MU"
      },
      "source": [
        "df.reset_index(inplace=True)"
      ],
      "execution_count": null,
      "outputs": []
    },
    {
      "cell_type": "code",
      "metadata": {
        "id": "XU0TD5cFN6Ho"
      },
      "source": [
        "df"
      ],
      "execution_count": null,
      "outputs": []
    },
    {
      "cell_type": "markdown",
      "metadata": {
        "id": "LpogpC22Oujh"
      },
      "source": [
        "## Reload the Dataframe\n",
        "\n"
      ]
    },
    {
      "cell_type": "code",
      "metadata": {
        "id": "iyERoOTYOz0T"
      },
      "source": [
        "df = pd.read_csv(CSV_PATH)"
      ],
      "execution_count": null,
      "outputs": []
    },
    {
      "cell_type": "code",
      "metadata": {
        "id": "SpeE6sN0O5qa"
      },
      "source": [
        "df"
      ],
      "execution_count": null,
      "outputs": []
    },
    {
      "cell_type": "markdown",
      "metadata": {
        "id": "VgzexoL5O8Rq"
      },
      "source": [
        "## Range Selection"
      ]
    },
    {
      "cell_type": "code",
      "metadata": {
        "id": "sPhvCuSiPBWq"
      },
      "source": [
        "df.loc[1:4]"
      ],
      "execution_count": null,
      "outputs": []
    },
    {
      "cell_type": "code",
      "metadata": {
        "id": "yEagpTWVPKUI"
      },
      "source": [
        "df.loc[:4]"
      ],
      "execution_count": null,
      "outputs": []
    },
    {
      "cell_type": "code",
      "metadata": {
        "id": "4abeYf3xPR0O"
      },
      "source": [
        "df.loc[4:]"
      ],
      "execution_count": null,
      "outputs": []
    },
    {
      "cell_type": "code",
      "metadata": {
        "id": "UqPi_UJAPZUE"
      },
      "source": [
        "df.loc[1:3,[\"name\",\"age\"]]"
      ],
      "execution_count": null,
      "outputs": []
    },
    {
      "cell_type": "code",
      "metadata": {
        "id": "LtpnOOclPnq4"
      },
      "source": [
        "df.iloc[1:4]"
      ],
      "execution_count": null,
      "outputs": []
    },
    {
      "cell_type": "code",
      "metadata": {
        "id": "dQNZHUX8IIrP"
      },
      "source": [
        "df.iloc[1:4][[\"name\",\"age\"]]"
      ],
      "execution_count": null,
      "outputs": []
    },
    {
      "cell_type": "markdown",
      "metadata": {
        "id": "rER2bBTxQqSF"
      },
      "source": [
        "## Conditional Selection"
      ]
    },
    {
      "cell_type": "code",
      "metadata": {
        "id": "Jc97DDDWQzy7"
      },
      "source": [
        "df"
      ],
      "execution_count": null,
      "outputs": []
    },
    {
      "cell_type": "code",
      "metadata": {
        "id": "gqhjwZ1KQ3vU"
      },
      "source": [
        "df[[\"working_years\"]]"
      ],
      "execution_count": null,
      "outputs": []
    },
    {
      "cell_type": "code",
      "metadata": {
        "id": "Nf3AKHWvQ_SV"
      },
      "source": [
        "df[\"working_years\"]>3"
      ],
      "execution_count": null,
      "outputs": []
    },
    {
      "cell_type": "code",
      "metadata": {
        "id": "NPuXkb9VRD8u"
      },
      "source": [
        "df[df[\"working_years\"]>3]"
      ],
      "execution_count": null,
      "outputs": []
    },
    {
      "cell_type": "code",
      "metadata": {
        "id": "6pDh5aJURN95"
      },
      "source": [
        "df[df[\"working_years\"]>3][[\"name\",\"working_years\", \"salary\"]]"
      ],
      "execution_count": null,
      "outputs": []
    },
    {
      "cell_type": "code",
      "metadata": {
        "id": "6LH93tR5Rczr"
      },
      "source": [
        "df[ (df[\"working_years\"]>3) & (df[\"salary\"]>70000) ]"
      ],
      "execution_count": null,
      "outputs": []
    },
    {
      "cell_type": "code",
      "metadata": {
        "id": "87AcBuBGR0zQ"
      },
      "source": [
        "df[ (df[\"working_years\"]>3) | (df[\"salary\"]>70000) ]"
      ],
      "execution_count": null,
      "outputs": []
    },
    {
      "cell_type": "code",
      "metadata": {
        "id": "C2zZkLb2Kix4"
      },
      "source": [
        "df[ (df[\"working_years\"]>3) | (df[\"salary\"]>70000) ].iloc[[3]]"
      ],
      "execution_count": null,
      "outputs": []
    },
    {
      "cell_type": "code",
      "metadata": {
        "id": "frz44DBUKtPb"
      },
      "source": [
        "df[ (df[\"working_years\"]>3) | (df[\"salary\"]>70000) ].loc[[3]]"
      ],
      "execution_count": null,
      "outputs": []
    },
    {
      "cell_type": "markdown",
      "metadata": {
        "id": "S9C4rJJiUCnX"
      },
      "source": [
        "## Column Operation"
      ]
    },
    {
      "cell_type": "code",
      "metadata": {
        "id": "EHS378JEVUih"
      },
      "source": [
        "df[\"salary\"]"
      ],
      "execution_count": null,
      "outputs": []
    },
    {
      "cell_type": "code",
      "metadata": {
        "id": "bh0VEnXSVWmk"
      },
      "source": [
        "df[\"salary\"]*12"
      ],
      "execution_count": null,
      "outputs": []
    },
    {
      "cell_type": "code",
      "metadata": {
        "id": "1vw3Ga6qVZaW"
      },
      "source": [
        "df[\"salary\"]*df[\"working_years\"]"
      ],
      "execution_count": null,
      "outputs": []
    },
    {
      "cell_type": "markdown",
      "metadata": {
        "id": "LCTt_3kHVvIR"
      },
      "source": [
        "## New Column"
      ]
    },
    {
      "cell_type": "code",
      "metadata": {
        "id": "F6nJp-XZLYPe"
      },
      "source": [
        "df"
      ],
      "execution_count": null,
      "outputs": []
    },
    {
      "cell_type": "code",
      "metadata": {
        "id": "I0RkwIeGUOre"
      },
      "source": [
        "df[\"country\"] = \"Thailand\""
      ],
      "execution_count": null,
      "outputs": []
    },
    {
      "cell_type": "code",
      "metadata": {
        "id": "nmNvxbJXUTvs"
      },
      "source": [
        "df"
      ],
      "execution_count": null,
      "outputs": []
    },
    {
      "cell_type": "code",
      "metadata": {
        "id": "l7u3E6iCV-Kg"
      },
      "source": [
        "df[\"bonus\"] = df[\"salary\"]*df[\"working_years\"]"
      ],
      "execution_count": null,
      "outputs": []
    },
    {
      "cell_type": "code",
      "metadata": {
        "id": "Wfe47RW3WCIP"
      },
      "source": [
        "df"
      ],
      "execution_count": null,
      "outputs": []
    },
    {
      "cell_type": "markdown",
      "metadata": {
        "id": "XDha6_1lWXK7"
      },
      "source": [
        "## Drop Row"
      ]
    },
    {
      "cell_type": "code",
      "metadata": {
        "id": "40TIs9ExWb6A"
      },
      "source": [
        "df.drop(7)"
      ],
      "execution_count": null,
      "outputs": []
    },
    {
      "cell_type": "code",
      "metadata": {
        "id": "tlfkiG8WWi6y"
      },
      "source": [
        "df"
      ],
      "execution_count": null,
      "outputs": []
    },
    {
      "cell_type": "code",
      "metadata": {
        "id": "bVNEy2wXWzUQ"
      },
      "source": [
        "df.drop(7, inplace=True)"
      ],
      "execution_count": null,
      "outputs": []
    },
    {
      "cell_type": "code",
      "metadata": {
        "id": "2jhUnaJMW520"
      },
      "source": [
        "df"
      ],
      "execution_count": null,
      "outputs": []
    },
    {
      "cell_type": "code",
      "metadata": {
        "id": "DgPpdMQAyOo4"
      },
      "source": [
        "df.drop([0,1,2])"
      ],
      "execution_count": null,
      "outputs": []
    },
    {
      "cell_type": "markdown",
      "metadata": {
        "id": "1XuDAQWLW9Ja"
      },
      "source": [
        "## Drop Column"
      ]
    },
    {
      "cell_type": "code",
      "metadata": {
        "id": "P0WnbQLcW8bd"
      },
      "source": [
        "df.drop(\"country\", axis=1)"
      ],
      "execution_count": null,
      "outputs": []
    },
    {
      "cell_type": "code",
      "metadata": {
        "id": "Yw-3uyEEXX7R"
      },
      "source": [
        "df.drop([\"country\",\"bonus\"], axis=1)"
      ],
      "execution_count": null,
      "outputs": []
    },
    {
      "cell_type": "code",
      "metadata": {
        "id": "nlqb0AOCXc64"
      },
      "source": [
        "df"
      ],
      "execution_count": null,
      "outputs": []
    },
    {
      "cell_type": "code",
      "metadata": {
        "id": "1fHZJKOoXfjU"
      },
      "source": [
        "df.drop([\"country\",\"bonus\"], axis=1, inplace=True)"
      ],
      "execution_count": null,
      "outputs": []
    },
    {
      "cell_type": "code",
      "metadata": {
        "id": "iiQ2TvNMXmUd"
      },
      "source": [
        "df"
      ],
      "execution_count": null,
      "outputs": []
    },
    {
      "cell_type": "markdown",
      "metadata": {
        "id": "EwdpNnFBb7cW"
      },
      "source": [
        "## Reload the Dataframe"
      ]
    },
    {
      "cell_type": "code",
      "metadata": {
        "id": "_7-rdOiTcEyP"
      },
      "source": [
        "df = pd.read_csv(CSV_PATH)"
      ],
      "execution_count": null,
      "outputs": []
    },
    {
      "cell_type": "code",
      "metadata": {
        "id": "36zQBfp2ODvd"
      },
      "source": [
        "df"
      ],
      "execution_count": null,
      "outputs": []
    },
    {
      "cell_type": "markdown",
      "metadata": {
        "id": "YxNB3fcBcL8-"
      },
      "source": [
        "## Sorting"
      ]
    },
    {
      "cell_type": "code",
      "metadata": {
        "id": "zG24H3TPc_XB"
      },
      "source": [
        "df.sort_values(\"salary\")"
      ],
      "execution_count": null,
      "outputs": []
    },
    {
      "cell_type": "code",
      "metadata": {
        "id": "bYHBZGaxdEb2"
      },
      "source": [
        "df.sort_values([\"department\",\"salary\"])"
      ],
      "execution_count": null,
      "outputs": []
    },
    {
      "cell_type": "code",
      "metadata": {
        "id": "jmkUnViudRSc"
      },
      "source": [
        "df.sort_values(\"salary\", ascending=False)"
      ],
      "execution_count": null,
      "outputs": []
    },
    {
      "cell_type": "code",
      "metadata": {
        "id": "TuQHsonPOASK"
      },
      "source": [
        "df"
      ],
      "execution_count": null,
      "outputs": []
    },
    {
      "cell_type": "code",
      "metadata": {
        "id": "8PxWdPrIdbnD"
      },
      "source": [
        "df.sort_values(\"salary\", ascending=False, inplace=True)"
      ],
      "execution_count": null,
      "outputs": []
    },
    {
      "cell_type": "code",
      "metadata": {
        "id": "4SJdjQEQdh5j"
      },
      "source": [
        "df"
      ],
      "execution_count": null,
      "outputs": []
    },
    {
      "cell_type": "code",
      "metadata": {
        "id": "kU6hS5k-dk4C"
      },
      "source": [
        "df.loc[0:2]"
      ],
      "execution_count": null,
      "outputs": []
    },
    {
      "cell_type": "code",
      "metadata": {
        "id": "oPgLadKXdxDn"
      },
      "source": [
        "df.iloc[0:2]"
      ],
      "execution_count": null,
      "outputs": []
    },
    {
      "cell_type": "markdown",
      "metadata": {
        "id": "7EsFKqVXePH6"
      },
      "source": [
        "## Grouping"
      ]
    },
    {
      "cell_type": "code",
      "metadata": {
        "id": "kmxG2VAs_qPH"
      },
      "source": [
        "df"
      ],
      "execution_count": null,
      "outputs": []
    },
    {
      "cell_type": "code",
      "metadata": {
        "id": "VkO5cxwLeToc"
      },
      "source": [
        "df.groupby(\"department\").mean()"
      ],
      "execution_count": null,
      "outputs": []
    },
    {
      "cell_type": "code",
      "metadata": {
        "id": "29lzedLqe6yL"
      },
      "source": [
        "df.groupby(\"department\").max()"
      ],
      "execution_count": null,
      "outputs": []
    },
    {
      "cell_type": "code",
      "metadata": {
        "id": "tP21lULdegUl"
      },
      "source": [
        "df.groupby([\"department\",\"gender\"]).mean()"
      ],
      "execution_count": null,
      "outputs": []
    },
    {
      "cell_type": "code",
      "metadata": {
        "id": "rbPJjpATSHPy"
      },
      "source": [
        "df.groupby([\"gender\",\"department\"]).mean()"
      ],
      "execution_count": null,
      "outputs": []
    },
    {
      "cell_type": "code",
      "metadata": {
        "id": "KQ6elpvQerq5"
      },
      "source": [
        "df_group_obj = df.groupby(\"department\")"
      ],
      "execution_count": null,
      "outputs": []
    },
    {
      "cell_type": "code",
      "metadata": {
        "id": "2cZXnqkLexqu"
      },
      "source": [
        "df_group_obj"
      ],
      "execution_count": null,
      "outputs": []
    },
    {
      "cell_type": "code",
      "metadata": {
        "id": "ltrgEAYQezZR"
      },
      "source": [
        "df_group_obj.mean()"
      ],
      "execution_count": null,
      "outputs": []
    },
    {
      "cell_type": "code",
      "metadata": {
        "id": "hybyQ8vee3Jx"
      },
      "source": [
        "df_group_obj.max()"
      ],
      "execution_count": null,
      "outputs": []
    },
    {
      "cell_type": "code",
      "metadata": {
        "id": "XdeiGOMvfDPo"
      },
      "source": [
        "df.groupby(\"department\").min()"
      ],
      "execution_count": null,
      "outputs": []
    },
    {
      "cell_type": "code",
      "metadata": {
        "id": "kqKqqx9GfL55"
      },
      "source": [
        "df.groupby(\"department\").count()"
      ],
      "execution_count": null,
      "outputs": []
    },
    {
      "cell_type": "code",
      "metadata": {
        "id": "c8PrMJ9cfblU"
      },
      "source": [
        "df.groupby(\"department\").agg({\"mean\", \"count\"})"
      ],
      "execution_count": null,
      "outputs": []
    },
    {
      "cell_type": "code",
      "metadata": {
        "id": "NZ76V6wTfoMo"
      },
      "source": [
        "df.groupby(\"department\")[\"age\"].agg({\"mean\", \"count\"})"
      ],
      "execution_count": null,
      "outputs": []
    },
    {
      "cell_type": "code",
      "metadata": {
        "id": "O_Br-CNRTjLh"
      },
      "source": [
        "df.groupby(\"department\")[[\"age\"]].agg({\"mean\", \"count\"})"
      ],
      "execution_count": null,
      "outputs": []
    },
    {
      "cell_type": "code",
      "metadata": {
        "id": "doboPXPefssa"
      },
      "source": [
        "df.groupby(\"department\").agg({\"age\":\"min\", \"salary\":\"mean\"})"
      ],
      "execution_count": null,
      "outputs": []
    },
    {
      "cell_type": "code",
      "metadata": {
        "id": "Er6SyVeyhApz"
      },
      "source": [
        "df.groupby(\"department\").agg({\"age\":[\"min\",\"max\"], \"salary\":\"mean\"})"
      ],
      "execution_count": null,
      "outputs": []
    },
    {
      "cell_type": "code",
      "metadata": {
        "id": "Vd2Eq4SCh274"
      },
      "source": [
        "dfg = df.groupby(\"department\").agg({\"age\":[\"min\",\"max\"], \"salary\":\"mean\"})"
      ],
      "execution_count": null,
      "outputs": []
    },
    {
      "cell_type": "code",
      "metadata": {
        "id": "c8Q4ATTXiLeW"
      },
      "source": [
        "dfg"
      ],
      "execution_count": null,
      "outputs": []
    },
    {
      "cell_type": "code",
      "metadata": {
        "id": "BrSKEH96h9P2"
      },
      "source": [
        "dfg.columns"
      ],
      "execution_count": null,
      "outputs": []
    },
    {
      "cell_type": "code",
      "metadata": {
        "id": "hVeqnEgE3i_K"
      },
      "source": [
        "dfg[('age','min')]"
      ],
      "execution_count": null,
      "outputs": []
    },
    {
      "cell_type": "code",
      "metadata": {
        "id": "6i2A9vnc3opP"
      },
      "source": [
        "dfg[[('age','min'),('salary','mean')]]"
      ],
      "execution_count": null,
      "outputs": []
    },
    {
      "cell_type": "code",
      "metadata": {
        "id": "crKsYs6c3037"
      },
      "source": [
        "dfg.columns"
      ],
      "execution_count": null,
      "outputs": []
    },
    {
      "cell_type": "code",
      "metadata": {
        "id": "Y580J6yViFAL"
      },
      "source": [
        "[\"_\".join(x) for x in dfg.columns]"
      ],
      "execution_count": null,
      "outputs": []
    },
    {
      "cell_type": "code",
      "metadata": {
        "id": "PP_7KedDhZHV"
      },
      "source": [
        "dfg.columns = [\"_\".join(x) for x in dfg.columns]"
      ],
      "execution_count": null,
      "outputs": []
    },
    {
      "cell_type": "code",
      "metadata": {
        "id": "-MyXghOxiJhC"
      },
      "source": [
        "dfg"
      ],
      "execution_count": null,
      "outputs": []
    },
    {
      "cell_type": "code",
      "metadata": {
        "id": "GY2uoK8OiWJI"
      },
      "source": [
        "dfg[[\"age_min\"]]"
      ],
      "execution_count": null,
      "outputs": []
    },
    {
      "cell_type": "code",
      "metadata": {
        "id": "kG-4X0-SidBr"
      },
      "source": [
        "dfg.reset_index()"
      ],
      "execution_count": null,
      "outputs": []
    },
    {
      "cell_type": "code",
      "metadata": {
        "id": "q6-Mb96IigiD"
      },
      "source": [
        "dfg.reset_index(inplace=True)"
      ],
      "execution_count": null,
      "outputs": []
    },
    {
      "cell_type": "code",
      "metadata": {
        "id": "eNJzHq2sijIM"
      },
      "source": [
        "dfg"
      ],
      "execution_count": null,
      "outputs": []
    },
    {
      "cell_type": "markdown",
      "metadata": {
        "id": "Ul92urXrk_Ul"
      },
      "source": [
        "## Reload the Dataset"
      ]
    },
    {
      "cell_type": "code",
      "metadata": {
        "id": "cSdNs7hLlCQb"
      },
      "source": [
        "df = pd.read_csv(CSV_PATH)"
      ],
      "execution_count": null,
      "outputs": []
    },
    {
      "cell_type": "markdown",
      "metadata": {
        "id": "OjEFT0wrlIQ-"
      },
      "source": [
        "## Iteration"
      ]
    },
    {
      "cell_type": "code",
      "metadata": {
        "id": "MgNu0oYulH1A"
      },
      "source": [
        "for index, row in df.iterrows():\n",
        "  print(index)"
      ],
      "execution_count": null,
      "outputs": []
    },
    {
      "cell_type": "code",
      "metadata": {
        "id": "K5sHkRklmDbE"
      },
      "source": [
        "for index, row in df.iterrows():\n",
        "  print(row[\"eid\"], row[\"name\"], row[\"salary\"])"
      ],
      "execution_count": null,
      "outputs": []
    },
    {
      "cell_type": "code",
      "metadata": {
        "id": "csR1GLwUmXhk"
      },
      "source": [
        "for index, row in df.iterrows():\n",
        "  #row[\"shoud_pay_ot\"] = \"Something\" << is not worked\n",
        "  if row[\"salary\"]>70000:\n",
        "    df.loc[index,\"should_pay_ot\"] = \"NO\"\n",
        "  elif row[\"salary\"]>50000:\n",
        "    df.loc[index,\"should_pay_ot\"] = \"MAY BE\"\n",
        "  else:\n",
        "    df.loc[index,\"should_pay_ot\"] = \"YES\""
      ],
      "execution_count": null,
      "outputs": []
    },
    {
      "cell_type": "code",
      "metadata": {
        "id": "weqyQWMemquJ"
      },
      "source": [
        "df"
      ],
      "execution_count": null,
      "outputs": []
    },
    {
      "cell_type": "markdown",
      "metadata": {
        "id": "w1Np_M8uoNr9"
      },
      "source": [
        "## Reload the Dataset"
      ]
    },
    {
      "cell_type": "code",
      "metadata": {
        "id": "SwRtKPR5oOSv"
      },
      "source": [
        "df = pd.read_csv(CSV_PATH)"
      ],
      "execution_count": null,
      "outputs": []
    },
    {
      "cell_type": "markdown",
      "metadata": {
        "id": "QqvmUBn0n-Js"
      },
      "source": [
        "## Apply Function"
      ]
    },
    {
      "cell_type": "code",
      "metadata": {
        "id": "HEYwJoyKo_Ki"
      },
      "source": [
        "np.log10(1000)"
      ],
      "execution_count": null,
      "outputs": []
    },
    {
      "cell_type": "code",
      "metadata": {
        "id": "hAf2OQxooFnP"
      },
      "source": [
        "df[\"salary\"]"
      ],
      "execution_count": null,
      "outputs": []
    },
    {
      "cell_type": "code",
      "metadata": {
        "id": "1j4TKh7go2B9"
      },
      "source": [
        "df[\"salary\"].apply(np.log10)"
      ],
      "execution_count": null,
      "outputs": []
    },
    {
      "cell_type": "code",
      "metadata": {
        "id": "AxcoHjZdpEC-"
      },
      "source": [
        "df[\"salary\"].apply(np.sqrt)"
      ],
      "execution_count": null,
      "outputs": []
    },
    {
      "cell_type": "code",
      "metadata": {
        "id": "81WS-lbtpuPh"
      },
      "source": [
        "def times10(num):\n",
        "  return num*10"
      ],
      "execution_count": null,
      "outputs": []
    },
    {
      "cell_type": "code",
      "metadata": {
        "id": "uqpoMBfvpnPV"
      },
      "source": [
        "times10(5)"
      ],
      "execution_count": null,
      "outputs": []
    },
    {
      "cell_type": "code",
      "metadata": {
        "id": "EIWDdHSyqLEx"
      },
      "source": [
        "df[\"age\"]"
      ],
      "execution_count": null,
      "outputs": []
    },
    {
      "cell_type": "code",
      "metadata": {
        "id": "IgU5SN7TqNLQ"
      },
      "source": [
        "df[\"age\"].apply(times10)"
      ],
      "execution_count": null,
      "outputs": []
    },
    {
      "cell_type": "code",
      "metadata": {
        "id": "0ExC438mqbwz"
      },
      "source": [
        "df[\"age\"].apply(lambda x: x*10)"
      ],
      "execution_count": null,
      "outputs": []
    },
    {
      "cell_type": "code",
      "metadata": {
        "id": "VVIW-bD4pJH0"
      },
      "source": [
        "def consider_ot_payment(salary):\n",
        "  result = \"\"\n",
        "  if salary>70000:\n",
        "    result = \"NO\"\n",
        "  elif salary>50000:\n",
        "    result = \"MAY BE\"\n",
        "  else:\n",
        "    result = \"YES\"\n",
        "    \n",
        "  return result"
      ],
      "execution_count": null,
      "outputs": []
    },
    {
      "cell_type": "code",
      "metadata": {
        "id": "0UZi4_RkZ93D"
      },
      "source": [
        "consider_ot_payment(80000)"
      ],
      "execution_count": null,
      "outputs": []
    },
    {
      "cell_type": "code",
      "metadata": {
        "id": "F6fjtfbCaCkL"
      },
      "source": [
        "consider_ot_payment(60000)"
      ],
      "execution_count": null,
      "outputs": []
    },
    {
      "cell_type": "code",
      "metadata": {
        "id": "pyvRG8dHaHXw"
      },
      "source": [
        "consider_ot_payment(30000)"
      ],
      "execution_count": null,
      "outputs": []
    },
    {
      "cell_type": "code",
      "metadata": {
        "id": "QxHRyUPfqySm"
      },
      "source": [
        "df[\"salary\"].apply(consider_ot_payment)"
      ],
      "execution_count": null,
      "outputs": []
    },
    {
      "cell_type": "code",
      "metadata": {
        "id": "x0frzOKCq6nX"
      },
      "source": [
        "df[\"should_pay_ot\"] = df[\"salary\"].apply(consider_ot_payment)"
      ],
      "execution_count": null,
      "outputs": []
    },
    {
      "cell_type": "code",
      "metadata": {
        "id": "EFORtttWq-tN"
      },
      "source": [
        "df"
      ],
      "execution_count": null,
      "outputs": []
    },
    {
      "cell_type": "markdown",
      "metadata": {
        "id": "Pdga4WTlrxlh"
      },
      "source": [
        "## Save into a CSV file"
      ]
    },
    {
      "cell_type": "code",
      "metadata": {
        "id": "3s3FC6ior3Pd"
      },
      "source": [
        "df.to_csv(\"employee.csv\")"
      ],
      "execution_count": null,
      "outputs": []
    },
    {
      "cell_type": "code",
      "metadata": {
        "id": "dmGnePMFsDxC"
      },
      "source": [
        "pd.read_csv(\"employee.csv\")"
      ],
      "execution_count": null,
      "outputs": []
    },
    {
      "cell_type": "code",
      "metadata": {
        "id": "2q-HnMU3sNF5"
      },
      "source": [
        "df.to_csv(\"employee.csv\", index=False)"
      ],
      "execution_count": null,
      "outputs": []
    },
    {
      "cell_type": "code",
      "metadata": {
        "id": "Z-3vY-pfsPAy"
      },
      "source": [
        "pd.read_csv(\"employee.csv\")"
      ],
      "execution_count": null,
      "outputs": []
    },
    {
      "cell_type": "markdown",
      "metadata": {
        "id": "D7AU1zo5sf9q"
      },
      "source": [
        "\n",
        "\n",
        "---\n",
        "https://rathachai.creatier.pro/\n",
        "\n",
        "## つづく"
      ]
    }
  ]
}